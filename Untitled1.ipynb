{
 "cells": [
  {
   "cell_type": "code",
   "execution_count": 3,
   "id": "4b526c93",
   "metadata": {},
   "outputs": [
    {
     "name": "stdout",
     "output_type": "stream",
     "text": [
      "Initializing box, please wait...\n",
      "initializing velocities, please wait..\n",
      "Initializing box, please wait...\n",
      "initializing velocities, please wait..\n",
      "Click on mouse button within the box to go ahead !!!\n",
      "<ESC> to quit\n"
     ]
    }
   ],
   "source": [
    "%run LJ-ELEC_MD-Verlet.py"
   ]
  },
  {
   "cell_type": "code",
   "execution_count": 4,
   "id": "124f7fb1",
   "metadata": {},
   "outputs": [
    {
     "name": "stdout",
     "output_type": "stream",
     "text": [
      "Initializing box, please wait...\n",
      "Initializing box, please wait...\n",
      "Click on mouse button within the box to go ahead !!!\n",
      "<ESC> to quit\n"
     ]
    }
   ],
   "source": [
    "%run LJ-ELEC_EM-steepest_Py3.py"
   ]
  },
  {
   "cell_type": "code",
   "execution_count": 5,
   "id": "8e14a8fa",
   "metadata": {},
   "outputs": [
    {
     "name": "stdout",
     "output_type": "stream",
     "text": [
      "Initializing box, please wait...\n",
      "Initializing box, please wait...\n",
      "Click on mouse button within the box to go ahead !!!\n",
      "<ESC> to quit\n"
     ]
    }
   ],
   "source": [
    "%run LJ-ELEC-MCf.py"
   ]
  },
  {
   "cell_type": "code",
   "execution_count": null,
   "id": "0399ad00",
   "metadata": {},
   "outputs": [],
   "source": []
  }
 ],
 "metadata": {
  "kernelspec": {
   "display_name": "Python 3 (ipykernel)",
   "language": "python",
   "name": "python3"
  },
  "language_info": {
   "codemirror_mode": {
    "name": "ipython",
    "version": 3
   },
   "file_extension": ".py",
   "mimetype": "text/x-python",
   "name": "python",
   "nbconvert_exporter": "python",
   "pygments_lexer": "ipython3",
   "version": "3.8.2"
  }
 },
 "nbformat": 4,
 "nbformat_minor": 5
}
